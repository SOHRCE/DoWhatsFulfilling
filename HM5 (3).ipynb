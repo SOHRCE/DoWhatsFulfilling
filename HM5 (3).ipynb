{
  "nbformat": 4,
  "nbformat_minor": 0,
  "metadata": {
    "kernelspec": {
      "display_name": "Python 3",
      "language": "python",
      "name": "python3"
    },
    "language_info": {
      "codemirror_mode": {
        "name": "ipython",
        "version": 3
      },
      "file_extension": ".py",
      "mimetype": "text/x-python",
      "name": "python",
      "nbconvert_exporter": "python",
      "pygments_lexer": "ipython3",
      "version": "3.8.5"
    },
    "colab": {
      "name": "HM5.ipynb",
      "provenance": [],
      "collapsed_sections": [],
      "toc_visible": true
    }
  },
  "cells": [
    {
      "cell_type": "markdown",
      "metadata": {
        "id": "yDsfIquYdxQz"
      },
      "source": [
        "# Home 5: Build a seq2seq model for machine translation.\n",
        "\n",
        "### Name: [Edward Hunter LaGrassa]\n",
        "\n",
        "### Task: Translate English to [French]"
      ]
    },
    {
      "cell_type": "markdown",
      "metadata": {
        "id": "ZpihEtsgdxRE"
      },
      "source": [
        "## 0. You will do the following:\n",
        "\n",
        "1. Read and run my code.\n",
        "2. Complete the code in Section 1.1 and Section 4.2.\n",
        "\n",
        "    * Translation **English** to **German** is not acceptable!!! Try another pair of languages.\n",
        "    \n",
        "3. **Make improvements.** Directly modify the code in Section 3. Do at least one of the two. By doing both correctly, you will get up to 1 bonus score to the total.\n",
        "\n",
        "    * Bi-LSTM instead of LSTM.\n",
        "        \n",
        "    * Attention. (You are allowed to use existing code.)\n",
        "    \n",
        "4. Evaluate the translation using the BLEU score. \n",
        "\n",
        "    * Optional. Up to 1 bonus scores to the total.\n",
        "    \n",
        "5. Convert the notebook to .HTML file. \n",
        "\n",
        "    * The HTML file must contain the code and the output after execution.\n",
        "\n",
        "6. Put the .HTML file in your Google Drive, Dropbox, or Github repo.  (If you submit the file to Google Drive or Dropbox, you must make the file \"open-access\". The delay caused by \"deny of access\" may result in late penalty.)\n",
        "\n",
        "7. Submit the link to the HTML file to Canvas.    \n"
      ]
    },
    {
      "cell_type": "markdown",
      "metadata": {
        "id": "LKyzh7DMdxRH"
      },
      "source": [
        "### Hint: \n",
        "\n",
        "To implement ```Bi-LSTM```, you will need the following code to build the encoder. Do NOT use Bi-LSTM for the decoder."
      ]
    },
    {
      "cell_type": "code",
      "metadata": {
        "id": "k2SJCP3hdxRH"
      },
      "source": [
        "from keras.layers import Bidirectional, Concatenate\n",
        "\n",
        "encoder_bilstm = Bidirectional(LSTM(latent_dim, return_state=True, \n",
        "                                  dropout=0.5, name='encoder_lstm'))\n",
        "_, forward_h, forward_c, backward_h, backward_c = encoder_bilstm(encoder_inputs)\n",
        "\n",
        "state_h = Concatenate()([forward_h, backward_h])\n",
        "state_c = Concatenate()([forward_c, backward_c])"
      ],
      "execution_count": null,
      "outputs": []
    },
    {
      "cell_type": "markdown",
      "metadata": {
        "id": "OwiB70JxdxRJ"
      },
      "source": [
        "## 1. Data preparation\n",
        "\n",
        "1. Download data (e.g., \"deu-eng.zip\") from http://www.manythings.org/anki/\n",
        "2. Unzip the .ZIP file.\n",
        "3. Put the .TXT file (e.g., \"deu.txt\") in the directory \"./Data/\"."
      ]
    },
    {
      "cell_type": "markdown",
      "metadata": {
        "id": "EA_QAA4LdxRJ"
      },
      "source": [
        "### 1.1. Load and clean text\n"
      ]
    },
    {
      "cell_type": "code",
      "metadata": {
        "id": "-FGS_lCmdxRK"
      },
      "source": [
        "import re\n",
        "import string\n",
        "from unicodedata import normalize\n",
        "import numpy\n",
        "\n",
        "# load doc into memory\n",
        "def load_doc(filename):\n",
        "    # open the file as read only\n",
        "    file = open(filename, mode='rt', encoding='utf-8')\n",
        "    # read all text\n",
        "    text = file.read()\n",
        "    # close the file\n",
        "    file.close()\n",
        "    return text\n",
        "\n",
        "\n",
        "# split a loaded document into sentences\n",
        "def to_pairs(doc):\n",
        "    lines = doc.strip().split('\\n')\n",
        "    pairs = [line.split('\\t') for line in  lines]\n",
        "    return pairs\n",
        "\n",
        "def clean_data(lines):\n",
        "    cleaned = list()\n",
        "    # prepare regex for char filtering\n",
        "    re_print = re.compile('[^%s]' % re.escape(string.printable))\n",
        "    # prepare translation table for removing punctuation\n",
        "    table = str.maketrans('', '', string.punctuation)\n",
        "    for pair in lines:\n",
        "        clean_pair = list()\n",
        "        for line in pair:\n",
        "            # normalize unicode characters\n",
        "            line = normalize('NFD', line).encode('ascii', 'ignore')\n",
        "            line = line.decode('UTF-8')\n",
        "            # tokenize on white space\n",
        "            line = line.split()\n",
        "            # convert to lowercase\n",
        "            line = [word.lower() for word in line]\n",
        "            # remove punctuation from each token\n",
        "            line = [word.translate(table) for word in line]\n",
        "            # remove non-printable chars form each token\n",
        "            line = [re_print.sub('', w) for w in line]\n",
        "            # remove tokens with numbers in them\n",
        "            line = [word for word in line if word.isalpha()]\n",
        "            # store as string\n",
        "            clean_pair.append(' '.join(line))\n",
        "        cleaned.append(clean_pair)\n",
        "    return numpy.array(cleaned)"
      ],
      "execution_count": 4,
      "outputs": []
    },
    {
      "cell_type": "markdown",
      "metadata": {
        "id": "zJuhtv3PdxRL"
      },
      "source": [
        "#### Fill the following blanks:"
      ]
    },
    {
      "cell_type": "code",
      "metadata": {
        "id": "tVc3wF0rdxRL",
        "colab": {
          "base_uri": "https://localhost:8080/"
        },
        "outputId": "fd542e07-78d9-44fd-b292-b9d78a6ea13a"
      },
      "source": [
        "# e.g., filename = 'Data/deu.txt'\n",
        "from google.colab import drive\n",
        "drive.mount('/content/drive')\n"
      ],
      "execution_count": 5,
      "outputs": [
        {
          "output_type": "stream",
          "text": [
            "Mounted at /content/drive\n"
          ],
          "name": "stdout"
        }
      ]
    },
    {
      "cell_type": "code",
      "metadata": {
        "id": "xmckE1SZjG9V"
      },
      "source": [
        "filename = \"drive/MyDrive/Colab Notebooks/fra.txt\"\n",
        "\n",
        "# e.g., n_train = 20000\n",
        "n_train = 20000"
      ],
      "execution_count": 6,
      "outputs": []
    },
    {
      "cell_type": "code",
      "metadata": {
        "id": "LtJtnYkRdxRM"
      },
      "source": [
        "# load dataset\n",
        "\n",
        "\n",
        "\n",
        "doc = load_doc(filename)\n",
        "\n",
        "# split into Language1-Language2 pairs\n",
        "pairs = to_pairs(doc)\n",
        "\n",
        "# clean sentences\n",
        "clean_pairs = clean_data(pairs)[0:n_train, :]"
      ],
      "execution_count": 7,
      "outputs": []
    },
    {
      "cell_type": "code",
      "metadata": {
        "id": "nRraiAfAdxRN",
        "colab": {
          "base_uri": "https://localhost:8080/"
        },
        "outputId": "05887f7c-ed7d-4b1a-8c93-9870fd57ce98"
      },
      "source": [
        "for i in range(3000, 3010):\n",
        "    print('[' + clean_pairs[i, 0] + '] => [' + clean_pairs[i, 1] + ']')"
      ],
      "execution_count": 8,
      "outputs": [
        {
          "output_type": "stream",
          "text": [
            "[i messed up] => [jai foire]\n",
            "[i messed up] => [jai degueulasse]\n",
            "[i messed up] => [jai sali]\n",
            "[i messed up] => [jai mis la pagaille]\n",
            "[i messed up] => [jai mis le souk]\n",
            "[i must hide] => [je dois me cacher]\n",
            "[i must obey] => [il me faut obeir]\n",
            "[i must obey] => [je dois obeir]\n",
            "[i nailed it] => [cest dans la poche]\n",
            "[i nailed it] => [je lai cloue]\n"
          ],
          "name": "stdout"
        }
      ]
    },
    {
      "cell_type": "code",
      "metadata": {
        "id": "7Q5q7avxdxRO",
        "colab": {
          "base_uri": "https://localhost:8080/"
        },
        "outputId": "4574313c-8bc1-46ad-9cff-9c6f22ddadfc"
      },
      "source": [
        "input_texts = clean_pairs[:, 0]\n",
        "target_texts = ['\\t' + text + '\\n' for text in clean_pairs[:, 1]]\n",
        "\n",
        "print('Length of input_texts:  ' + str(input_texts.shape))\n",
        "print('Length of target_texts: ' + str(input_texts.shape))"
      ],
      "execution_count": 9,
      "outputs": [
        {
          "output_type": "stream",
          "text": [
            "Length of input_texts:  (20000,)\n",
            "Length of target_texts: (20000,)\n"
          ],
          "name": "stdout"
        }
      ]
    },
    {
      "cell_type": "code",
      "metadata": {
        "id": "Dojfv1EZdxRP",
        "colab": {
          "base_uri": "https://localhost:8080/"
        },
        "outputId": "713be5d8-a64c-4ca8-c5c6-5469321787ea"
      },
      "source": [
        "max_encoder_seq_length = max(len(line) for line in input_texts)\n",
        "max_decoder_seq_length = max(len(line) for line in target_texts)\n",
        "\n",
        "print('max length of input  sentences: %d' % (max_encoder_seq_length))\n",
        "print('max length of target sentences: %d' % (max_decoder_seq_length))"
      ],
      "execution_count": 10,
      "outputs": [
        {
          "output_type": "stream",
          "text": [
            "max length of input  sentences: 16\n",
            "max length of target sentences: 56\n"
          ],
          "name": "stdout"
        }
      ]
    },
    {
      "cell_type": "markdown",
      "metadata": {
        "id": "wVC_1uTndxRQ"
      },
      "source": [
        "**Remark:** To this end, you have two lists of sentences: input_texts and target_texts"
      ]
    },
    {
      "cell_type": "markdown",
      "metadata": {
        "id": "nvKMSKjcdxRR"
      },
      "source": [
        "## 2. Text processing\n",
        "\n",
        "### 2.1. Convert texts to sequences\n",
        "\n",
        "- Input: A list of $n$ sentences (with max length $t$).\n",
        "- It is represented by a $n\\times t$ matrix after the tokenization and zero-padding."
      ]
    },
    {
      "cell_type": "code",
      "metadata": {
        "id": "H1Y8aS-mdxRv",
        "colab": {
          "base_uri": "https://localhost:8080/"
        },
        "outputId": "03fa367b-f899-4f6e-f774-4b64e0b4eecb"
      },
      "source": [
        "from keras.preprocessing.text import Tokenizer\n",
        "from keras.preprocessing.sequence import pad_sequences\n",
        "\n",
        "# encode and pad sequences\n",
        "def text2sequences(max_len, lines):\n",
        "    tokenizer = Tokenizer(char_level=True, filters='')\n",
        "    tokenizer.fit_on_texts(lines)\n",
        "    seqs = tokenizer.texts_to_sequences(lines)\n",
        "    seqs_pad = pad_sequences(seqs, maxlen=max_len, padding='post')\n",
        "    return seqs_pad, tokenizer.word_index\n",
        "\n",
        "\n",
        "encoder_input_seq, input_token_index = text2sequences(max_encoder_seq_length, \n",
        "                                                      input_texts)\n",
        "decoder_input_seq, target_token_index = text2sequences(max_decoder_seq_length, \n",
        "                                                       target_texts)\n",
        "\n",
        "print('shape of encoder_input_seq: ' + str(encoder_input_seq.shape))\n",
        "print('shape of input_token_index: ' + str(len(input_token_index)))\n",
        "print('shape of decoder_input_seq: ' + str(decoder_input_seq.shape))\n",
        "print('shape of target_token_index: ' + str(len(target_token_index)))"
      ],
      "execution_count": 11,
      "outputs": [
        {
          "output_type": "stream",
          "text": [
            "shape of encoder_input_seq: (20000, 16)\n",
            "shape of input_token_index: 27\n",
            "shape of decoder_input_seq: (20000, 56)\n",
            "shape of target_token_index: 29\n"
          ],
          "name": "stdout"
        }
      ]
    },
    {
      "cell_type": "code",
      "metadata": {
        "id": "ygi1TX3GdxR3",
        "colab": {
          "base_uri": "https://localhost:8080/"
        },
        "outputId": "641e78ad-1b16-4860-d426-b727694974d2"
      },
      "source": [
        "num_encoder_tokens = len(input_token_index) + 1\n",
        "num_decoder_tokens = len(target_token_index) + 1\n",
        "\n",
        "print('num_encoder_tokens: ' + str(num_encoder_tokens))\n",
        "print('num_decoder_tokens: ' + str(num_decoder_tokens))"
      ],
      "execution_count": 13,
      "outputs": [
        {
          "output_type": "stream",
          "text": [
            "num_encoder_tokens: 28\n",
            "num_decoder_tokens: 30\n"
          ],
          "name": "stdout"
        }
      ]
    },
    {
      "cell_type": "markdown",
      "metadata": {
        "id": "BZofY41BdxR3"
      },
      "source": [
        "**Remark:** To this end, the input language and target language texts are converted to 2 matrices. \n",
        "\n",
        "- Their number of rows are both n_train.\n",
        "- Their number of columns are respective max_encoder_seq_length and max_decoder_seq_length."
      ]
    },
    {
      "cell_type": "markdown",
      "metadata": {
        "id": "eqI43fUbdxR4"
      },
      "source": [
        "The followings print a sentence and its representation as a sequence."
      ]
    },
    {
      "cell_type": "code",
      "metadata": {
        "id": "K1Dtq7kHdxR4",
        "colab": {
          "base_uri": "https://localhost:8080/",
          "height": 35
        },
        "outputId": "69fee4d6-c415-4267-9bb4-f498bce304a3"
      },
      "source": [
        "target_texts[100]"
      ],
      "execution_count": 14,
      "outputs": [
        {
          "output_type": "execute_result",
          "data": {
            "application/vnd.google.colaboratory.intrinsic+json": {
              "type": "string"
            },
            "text/plain": [
              "'\\tje payai\\n'"
            ]
          },
          "metadata": {
            "tags": []
          },
          "execution_count": 14
        }
      ]
    },
    {
      "cell_type": "code",
      "metadata": {
        "id": "-XofCbHGdxR5",
        "colab": {
          "base_uri": "https://localhost:8080/"
        },
        "outputId": "d853facf-8416-4c7c-a8dd-7e808961787d"
      },
      "source": [
        "decoder_input_seq[100, :]"
      ],
      "execution_count": 15,
      "outputs": [
        {
          "output_type": "execute_result",
          "data": {
            "text/plain": [
              "array([ 7, 19,  1,  2, 16,  4, 27,  4,  5,  8,  0,  0,  0,  0,  0,  0,  0,\n",
              "        0,  0,  0,  0,  0,  0,  0,  0,  0,  0,  0,  0,  0,  0,  0,  0,  0,\n",
              "        0,  0,  0,  0,  0,  0,  0,  0,  0,  0,  0,  0,  0,  0,  0,  0,  0,\n",
              "        0,  0,  0,  0,  0], dtype=int32)"
            ]
          },
          "metadata": {
            "tags": []
          },
          "execution_count": 15
        }
      ]
    },
    {
      "cell_type": "markdown",
      "metadata": {
        "id": "kXKUlFl2dxR_"
      },
      "source": [
        "## 2.2. One-hot encode\n",
        "\n",
        "- Input: A list of $n$ sentences (with max length $t$).\n",
        "- It is represented by a $n\\times t$ matrix after the tokenization and zero-padding.\n",
        "- It is represented by a $n\\times t \\times v$ tensor ($t$ is the number of unique chars) after the one-hot encoding."
      ]
    },
    {
      "cell_type": "code",
      "metadata": {
        "id": "6JexNbHkdxR_",
        "colab": {
          "base_uri": "https://localhost:8080/"
        },
        "outputId": "78cbe3f1-834d-400d-8beb-789b65991f07"
      },
      "source": [
        "from keras.utils import to_categorical\n",
        "\n",
        "# one hot encode target sequence\n",
        "def onehot_encode(sequences, max_len, vocab_size):\n",
        "    n = len(sequences)\n",
        "    data = numpy.zeros((n, max_len, vocab_size))\n",
        "    for i in range(n):\n",
        "        data[i, :, :] = to_categorical(sequences[i], num_classes=vocab_size)\n",
        "    return data\n",
        "\n",
        "encoder_input_data = onehot_encode(encoder_input_seq, max_encoder_seq_length, num_encoder_tokens)\n",
        "decoder_input_data = onehot_encode(decoder_input_seq, max_decoder_seq_length, num_decoder_tokens)\n",
        "\n",
        "decoder_target_seq = numpy.zeros(decoder_input_seq.shape)\n",
        "decoder_target_seq[:, 0:-1] = decoder_input_seq[:, 1:]\n",
        "decoder_target_data = onehot_encode(decoder_target_seq, \n",
        "                                    max_decoder_seq_length, \n",
        "                                    num_decoder_tokens)\n",
        "\n",
        "print(encoder_input_data.shape)\n",
        "print(decoder_input_data.shape)"
      ],
      "execution_count": 16,
      "outputs": [
        {
          "output_type": "stream",
          "text": [
            "(20000, 16, 28)\n",
            "(20000, 56, 30)\n"
          ],
          "name": "stdout"
        }
      ]
    },
    {
      "cell_type": "markdown",
      "metadata": {
        "id": "YyJ-eHKedxSA"
      },
      "source": [
        "## 3. Build the networks (for training)\n",
        "\n",
        "- Build encoder, decoder, and connect the two modules to get \"model\". \n",
        "\n",
        "- Fit the model on the bilingual data to train the parameters in the encoder and decoder."
      ]
    },
    {
      "cell_type": "markdown",
      "metadata": {
        "id": "k0TAUzk6dxSB"
      },
      "source": [
        "### 3.1. Encoder network\n",
        "\n",
        "- Input:  one-hot encode of the input language\n",
        "\n",
        "- Return: \n",
        "\n",
        "    -- output (all the hidden states   $h_1, \\cdots , h_t$) are always discarded\n",
        "    \n",
        "    -- the final hidden state  $h_t$\n",
        "    \n",
        "    -- the final conveyor belt $c_t$"
      ]
    },
    {
      "cell_type": "code",
      "metadata": {
        "id": "PGY5agQYdxSB"
      },
      "source": [
        "from keras.layers import Input, LSTM\n",
        "from keras.models import Model\n",
        "\n",
        "latent_dim = 256\n",
        "\n",
        "# inputs of the encoder network\n",
        "encoder_inputs = Input(shape=(None, num_encoder_tokens), \n",
        "                       name='encoder_inputs')\n",
        "\n",
        "# set the LSTM layer\n",
        "encoder_lstm = LSTM(latent_dim, return_state=True, \n",
        "                    dropout=0.5, name='encoder_lstm')\n",
        "_, state_h, state_c = encoder_lstm(encoder_inputs)\n",
        "\n",
        "# build the encoder network model\n",
        "encoder_model = Model(inputs=encoder_inputs, \n",
        "                      outputs=[state_h, state_c],\n",
        "                      name='encoder')"
      ],
      "execution_count": 18,
      "outputs": []
    },
    {
      "cell_type": "code",
      "metadata": {
        "id": "bj6utZMomcD3"
      },
      "source": [
        "from keras.layers import Bidirectional, Concatenate, Attention, Embedding\n",
        "from keras.layers import Input, LSTM\n",
        "from keras.models import Model\n",
        "\n",
        "latent_dim = 256\n",
        "\n",
        "# inputs of the encoder network\n",
        "encoder_inputs = Input(shape=(None, num_encoder_tokens), \n",
        "                       name='encoder_inputs')\n",
        "\n",
        "# Embedding Layer\n",
        "first_embedding = encoder_inputs\n",
        "\n",
        "#First Bidirectional Layer\n",
        "first_encoder = Bidirectional(LSTM(latent_dim,return_state=True,dropout=0.5, return_sequences=True))\n",
        "first_encoder_output,forward_h1,forward_c1,backward_h1,backward_c1 = first_encoder(first_embedding)\n",
        "\n",
        "#Second Bidirectional Layer\n",
        "second_encoder = Bidirectional(LSTM(latent_dim,return_state=True,dropout=0.2, return_sequences=True))\n",
        "second_encoder_output,forward_h2,forward_c2,backward_h2,backward_c2 = second_encoder(first_encoder_output)\n",
        "\n",
        "#Third Bidirectional Layer\n",
        "third_encoder = Bidirectional(LSTM(latent_dim,return_state=True,dropout=0.1, return_sequences=True))\n",
        "third_encoder_output,forward_h3,forward_c3,backward_h3,backward_c3 = third_encoder(second_encoder_output)\n",
        "\n",
        "state_h = Concatenate()([forward_h3,backward_h3])\n",
        "state_c = Concatenate()([forward_c3,backward_c3])\n",
        "\n",
        "encoder_states = [state_h,state_c]\n",
        "\n",
        "# build the encoder network model\n",
        "encoder_model = Model(inputs=encoder_inputs, \n",
        "                      outputs=[state_h, state_c],\n",
        "                      name='encoder')"
      ],
      "execution_count": 19,
      "outputs": []
    },
    {
      "cell_type": "markdown",
      "metadata": {
        "id": "fTKhTlvCdxSC"
      },
      "source": [
        "Print a summary and save the encoder network structure to \"./encoder.pdf\""
      ]
    },
    {
      "cell_type": "code",
      "metadata": {
        "id": "HLED40OXdxSD",
        "colab": {
          "base_uri": "https://localhost:8080/"
        },
        "outputId": "2c8d8fcd-eb2b-4359-9b64-76c649ebba58"
      },
      "source": [
        "import pydotplus\n",
        "import graphviz\n",
        "from IPython.display import SVG\n",
        "from keras.utils.vis_utils import model_to_dot, plot_model\n",
        "\n",
        "SVG(model_to_dot(encoder_model, show_shapes=False).create(prog='dot', format='svg'))\n",
        "\n",
        "plot_model(\n",
        "    model=encoder_model, show_shapes=False,\n",
        "    to_file='encoder.pdf'\n",
        ")\n",
        "\n",
        "encoder_model.summary()"
      ],
      "execution_count": 20,
      "outputs": [
        {
          "output_type": "stream",
          "text": [
            "Model: \"encoder\"\n",
            "__________________________________________________________________________________________________\n",
            "Layer (type)                    Output Shape         Param #     Connected to                     \n",
            "==================================================================================================\n",
            "encoder_inputs (InputLayer)     [(None, None, 28)]   0                                            \n",
            "__________________________________________________________________________________________________\n",
            "bidirectional (Bidirectional)   [(None, None, 512),  583680      encoder_inputs[0][0]             \n",
            "__________________________________________________________________________________________________\n",
            "bidirectional_1 (Bidirectional) [(None, None, 512),  1574912     bidirectional[0][0]              \n",
            "__________________________________________________________________________________________________\n",
            "bidirectional_2 (Bidirectional) [(None, None, 512),  1574912     bidirectional_1[0][0]            \n",
            "__________________________________________________________________________________________________\n",
            "concatenate (Concatenate)       (None, 512)          0           bidirectional_2[0][1]            \n",
            "                                                                 bidirectional_2[0][3]            \n",
            "__________________________________________________________________________________________________\n",
            "concatenate_1 (Concatenate)     (None, 512)          0           bidirectional_2[0][2]            \n",
            "                                                                 bidirectional_2[0][4]            \n",
            "==================================================================================================\n",
            "Total params: 3,733,504\n",
            "Trainable params: 3,733,504\n",
            "Non-trainable params: 0\n",
            "__________________________________________________________________________________________________\n"
          ],
          "name": "stdout"
        }
      ]
    },
    {
      "cell_type": "markdown",
      "metadata": {
        "id": "sXy3uRpZdxSD"
      },
      "source": [
        "### 3.2. Decoder network\n",
        "\n",
        "- Inputs:  \n",
        "\n",
        "    -- one-hot encode of the target language\n",
        "    \n",
        "    -- The initial hidden state $h_t$ \n",
        "    \n",
        "    -- The initial conveyor belt $c_t$ \n",
        "\n",
        "- Return: \n",
        "\n",
        "    -- output (all the hidden states) $h_1, \\cdots , h_t$\n",
        "\n",
        "    -- the final hidden state  $h_t$ (discarded in the training and used in the prediction)\n",
        "    \n",
        "    -- the final conveyor belt $c_t$ (discarded in the training and used in the prediction)"
      ]
    },
    {
      "cell_type": "code",
      "metadata": {
        "id": "S0qimuXhdxSG"
      },
      "source": [
        "from keras.layers import Input, LSTM, Dense\n",
        "from keras.models import Model\n",
        "\n",
        "# inputs of the decoder network\n",
        "decoder_input_h = Input(shape=(512,), name='decoder_input_h')\n",
        "decoder_input_c = Input(shape=(512,), name='decoder_input_c')\n",
        "decoder_input_x = Input(shape=(None, num_decoder_tokens), name='decoder_input_x')\n",
        "\n",
        "# set the LSTM layer\n",
        "decoder_lstm = LSTM(512, return_sequences=True, \n",
        "                    return_state=True, dropout=0.5, name='decoder_lstm')\n",
        "decoder_lstm_outputs, state_h, state_c = decoder_lstm(decoder_input_x, \n",
        "                                                      initial_state=[decoder_input_h, decoder_input_c])\n",
        "\n",
        "# set the dense layer\n",
        "decoder_dense = Dense(num_decoder_tokens, activation='softmax', name='decoder_dense')\n",
        "decoder_outputs = decoder_dense(decoder_lstm_outputs)\n",
        "\n",
        "# build the decoder network model\n",
        "decoder_model = Model(inputs=[decoder_input_x, decoder_input_h, decoder_input_c],\n",
        "                      outputs=[decoder_outputs, state_h, state_c],\n",
        "                      name='decoder')"
      ],
      "execution_count": 23,
      "outputs": []
    },
    {
      "cell_type": "markdown",
      "metadata": {
        "id": "CV5lguXKdxSH"
      },
      "source": [
        "Print a summary and save the encoder network structure to \"./decoder.pdf\""
      ]
    },
    {
      "cell_type": "code",
      "metadata": {
        "id": "2hU_xPsCdxSH",
        "colab": {
          "base_uri": "https://localhost:8080/"
        },
        "outputId": "00673380-c72a-42b7-c1ab-52ab48c9ece1"
      },
      "source": [
        "from IPython.display import SVG\n",
        "from keras.utils.vis_utils import model_to_dot, plot_model\n",
        "\n",
        "SVG(model_to_dot(decoder_model, show_shapes=False).create(prog='dot', format='svg'))\n",
        "\n",
        "plot_model(\n",
        "    model=decoder_model, show_shapes=False,\n",
        "    to_file='decoder.pdf'\n",
        ")\n",
        "\n",
        "decoder_model.summary()"
      ],
      "execution_count": 24,
      "outputs": [
        {
          "output_type": "stream",
          "text": [
            "Model: \"decoder\"\n",
            "__________________________________________________________________________________________________\n",
            "Layer (type)                    Output Shape         Param #     Connected to                     \n",
            "==================================================================================================\n",
            "decoder_input_x (InputLayer)    [(None, None, 30)]   0                                            \n",
            "__________________________________________________________________________________________________\n",
            "decoder_input_h (InputLayer)    [(None, 512)]        0                                            \n",
            "__________________________________________________________________________________________________\n",
            "decoder_input_c (InputLayer)    [(None, 512)]        0                                            \n",
            "__________________________________________________________________________________________________\n",
            "decoder_lstm (LSTM)             [(None, None, 512),  1112064     decoder_input_x[0][0]            \n",
            "                                                                 decoder_input_h[0][0]            \n",
            "                                                                 decoder_input_c[0][0]            \n",
            "__________________________________________________________________________________________________\n",
            "decoder_dense (Dense)           (None, None, 30)     15390       decoder_lstm[0][0]               \n",
            "==================================================================================================\n",
            "Total params: 1,127,454\n",
            "Trainable params: 1,127,454\n",
            "Non-trainable params: 0\n",
            "__________________________________________________________________________________________________\n"
          ],
          "name": "stdout"
        }
      ]
    },
    {
      "cell_type": "markdown",
      "metadata": {
        "id": "lo_4dZuidxSH"
      },
      "source": [
        "### 3.3. Connect the encoder and decoder"
      ]
    },
    {
      "cell_type": "code",
      "metadata": {
        "id": "ATPvk_UCdxSI"
      },
      "source": [
        "# input layers\n",
        "encoder_input_x = Input(shape=(None, num_encoder_tokens), name='encoder_input_x')\n",
        "decoder_input_x = Input(shape=(None, num_decoder_tokens), name='decoder_input_x')\n",
        "\n",
        "# connect encoder to decoder\n",
        "encoder_final_states = encoder_model([encoder_input_x])\n",
        "decoder_lstm_output, _, _ = decoder_lstm(decoder_input_x, initial_state=encoder_final_states)\n",
        "decoder_pred = decoder_dense(decoder_lstm_output)\n",
        "\n",
        "model = Model(inputs=[encoder_input_x, decoder_input_x], \n",
        "              outputs=decoder_pred, \n",
        "              name='model_training')"
      ],
      "execution_count": 25,
      "outputs": []
    },
    {
      "cell_type": "code",
      "metadata": {
        "id": "dFK0fe9odxSI",
        "colab": {
          "base_uri": "https://localhost:8080/"
        },
        "outputId": "4cc0f1cd-41d3-41f9-df2d-cd5cfc322d66"
      },
      "source": [
        "print(state_h)\n",
        "print(decoder_input_h)"
      ],
      "execution_count": 26,
      "outputs": [
        {
          "output_type": "stream",
          "text": [
            "KerasTensor(type_spec=TensorSpec(shape=(None, 512), dtype=tf.float32, name=None), name='decoder_lstm/PartitionedCall:2', description=\"created by layer 'decoder_lstm'\")\n",
            "KerasTensor(type_spec=TensorSpec(shape=(None, 512), dtype=tf.float32, name='decoder_input_h'), name='decoder_input_h', description=\"created by layer 'decoder_input_h'\")\n"
          ],
          "name": "stdout"
        }
      ]
    },
    {
      "cell_type": "code",
      "metadata": {
        "id": "FaRDdOX2dxSI",
        "colab": {
          "base_uri": "https://localhost:8080/"
        },
        "outputId": "bc509539-2ebc-4ab6-962a-96672f7b6c2d"
      },
      "source": [
        "from IPython.display import SVG\n",
        "from keras.utils.vis_utils import model_to_dot, plot_model\n",
        "\n",
        "SVG(model_to_dot(model, show_shapes=False).create(prog='dot', format='svg'))\n",
        "\n",
        "plot_model(\n",
        "    model=model, show_shapes=False,\n",
        "    to_file='model_training.pdf'\n",
        ")\n",
        "\n",
        "model.summary()"
      ],
      "execution_count": 27,
      "outputs": [
        {
          "output_type": "stream",
          "text": [
            "Model: \"model_training\"\n",
            "__________________________________________________________________________________________________\n",
            "Layer (type)                    Output Shape         Param #     Connected to                     \n",
            "==================================================================================================\n",
            "encoder_input_x (InputLayer)    [(None, None, 28)]   0                                            \n",
            "__________________________________________________________________________________________________\n",
            "decoder_input_x (InputLayer)    [(None, None, 30)]   0                                            \n",
            "__________________________________________________________________________________________________\n",
            "encoder (Functional)            [(None, 512), (None, 3733504     encoder_input_x[0][0]            \n",
            "__________________________________________________________________________________________________\n",
            "decoder_lstm (LSTM)             [(None, None, 512),  1112064     decoder_input_x[0][0]            \n",
            "                                                                 encoder[0][0]                    \n",
            "                                                                 encoder[0][1]                    \n",
            "__________________________________________________________________________________________________\n",
            "decoder_dense (Dense)           (None, None, 30)     15390       decoder_lstm[1][0]               \n",
            "==================================================================================================\n",
            "Total params: 4,860,958\n",
            "Trainable params: 4,860,958\n",
            "Non-trainable params: 0\n",
            "__________________________________________________________________________________________________\n"
          ],
          "name": "stdout"
        }
      ]
    },
    {
      "cell_type": "markdown",
      "metadata": {
        "id": "eyYO6qR7dxSK"
      },
      "source": [
        "### 3.5. Fit the model on the bilingual dataset\n",
        "\n",
        "- encoder_input_data: one-hot encode of the input language\n",
        "\n",
        "- decoder_input_data: one-hot encode of the input language\n",
        "\n",
        "- decoder_target_data: labels (left shift of decoder_input_data)\n",
        "\n",
        "- tune the hyper-parameters\n",
        "\n",
        "- stop when the validation loss stop decreasing."
      ]
    },
    {
      "cell_type": "code",
      "metadata": {
        "id": "r_W9KLF4dxSL",
        "colab": {
          "base_uri": "https://localhost:8080/"
        },
        "outputId": "217878eb-5cb2-463f-993c-c184164b6ab8"
      },
      "source": [
        "print('shape of encoder_input_data' + str(encoder_input_data.shape))\n",
        "print('shape of decoder_input_data' + str(decoder_input_data.shape))\n",
        "print('shape of decoder_target_data' + str(decoder_target_data.shape))"
      ],
      "execution_count": 28,
      "outputs": [
        {
          "output_type": "stream",
          "text": [
            "shape of encoder_input_data(20000, 16, 28)\n",
            "shape of decoder_input_data(20000, 56, 30)\n",
            "shape of decoder_target_data(20000, 56, 30)\n"
          ],
          "name": "stdout"
        }
      ]
    },
    {
      "cell_type": "code",
      "metadata": {
        "id": "5fFjDQukdxSL",
        "colab": {
          "base_uri": "https://localhost:8080/"
        },
        "outputId": "3cc1a89c-d81c-4d27-c0e0-fead17163549"
      },
      "source": [
        "model.compile(optimizer='rmsprop', loss='categorical_crossentropy')\n",
        "\n",
        "model.fit([encoder_input_data, decoder_input_data],  # training data\n",
        "          decoder_target_data,                       # labels (left shift of the target sequences)\n",
        "          batch_size=64, epochs=50, validation_split=0.2)\n",
        "\n",
        "model.save('seq2seq.h5')"
      ],
      "execution_count": 29,
      "outputs": [
        {
          "output_type": "stream",
          "text": [
            "Epoch 1/50\n",
            "250/250 [==============================] - 48s 41ms/step - loss: 1.2232 - val_loss: 0.8422\n",
            "Epoch 2/50\n",
            "250/250 [==============================] - 8s 31ms/step - loss: 0.7739 - val_loss: 0.7666\n",
            "Epoch 3/50\n",
            "250/250 [==============================] - 8s 31ms/step - loss: 0.7129 - val_loss: 0.6889\n",
            "Epoch 4/50\n",
            "250/250 [==============================] - 8s 31ms/step - loss: 0.6710 - val_loss: 0.6483\n",
            "Epoch 5/50\n",
            "250/250 [==============================] - 8s 31ms/step - loss: 0.6414 - val_loss: 0.6188\n",
            "Epoch 6/50\n",
            "250/250 [==============================] - 8s 31ms/step - loss: 0.6222 - val_loss: 0.5972\n",
            "Epoch 7/50\n",
            "250/250 [==============================] - 8s 32ms/step - loss: 0.6034 - val_loss: 0.5755\n",
            "Epoch 8/50\n",
            "250/250 [==============================] - 8s 32ms/step - loss: 0.5858 - val_loss: 0.5608\n",
            "Epoch 9/50\n",
            "250/250 [==============================] - 8s 32ms/step - loss: 0.5719 - val_loss: 0.5492\n",
            "Epoch 10/50\n",
            "250/250 [==============================] - 8s 32ms/step - loss: 0.5582 - val_loss: 0.5383\n",
            "Epoch 11/50\n",
            "250/250 [==============================] - 8s 33ms/step - loss: 0.5480 - val_loss: 0.5255\n",
            "Epoch 12/50\n",
            "250/250 [==============================] - 8s 33ms/step - loss: 0.5359 - val_loss: 0.5183\n",
            "Epoch 13/50\n",
            "250/250 [==============================] - 8s 33ms/step - loss: 0.5224 - val_loss: 0.5089\n",
            "Epoch 14/50\n",
            "250/250 [==============================] - 8s 33ms/step - loss: 0.5174 - val_loss: 0.5042\n",
            "Epoch 15/50\n",
            "250/250 [==============================] - 8s 33ms/step - loss: 0.5098 - val_loss: 0.4990\n",
            "Epoch 16/50\n",
            "250/250 [==============================] - 8s 33ms/step - loss: 0.5019 - val_loss: 0.4956\n",
            "Epoch 17/50\n",
            "250/250 [==============================] - 8s 33ms/step - loss: 0.4920 - val_loss: 0.4900\n",
            "Epoch 18/50\n",
            "250/250 [==============================] - 8s 32ms/step - loss: 0.4853 - val_loss: 0.4851\n",
            "Epoch 19/50\n",
            "250/250 [==============================] - 8s 32ms/step - loss: 0.4801 - val_loss: 0.4840\n",
            "Epoch 20/50\n",
            "250/250 [==============================] - 8s 33ms/step - loss: 0.4738 - val_loss: 0.4804\n",
            "Epoch 21/50\n",
            "250/250 [==============================] - 8s 33ms/step - loss: 0.4648 - val_loss: 0.4788\n",
            "Epoch 22/50\n",
            "250/250 [==============================] - 8s 33ms/step - loss: 0.4656 - val_loss: 0.4733\n",
            "Epoch 23/50\n",
            "250/250 [==============================] - 8s 33ms/step - loss: 0.4572 - val_loss: 0.4701\n",
            "Epoch 24/50\n",
            "250/250 [==============================] - 8s 33ms/step - loss: 0.4460 - val_loss: 0.4684\n",
            "Epoch 25/50\n",
            "250/250 [==============================] - 8s 33ms/step - loss: 0.4444 - val_loss: 0.4671\n",
            "Epoch 26/50\n",
            "250/250 [==============================] - 8s 33ms/step - loss: 0.4375 - val_loss: 0.4639\n",
            "Epoch 27/50\n",
            "250/250 [==============================] - 8s 33ms/step - loss: 0.4314 - val_loss: 0.4601\n",
            "Epoch 28/50\n",
            "250/250 [==============================] - 8s 33ms/step - loss: 0.4241 - val_loss: 0.4577\n",
            "Epoch 29/50\n",
            "250/250 [==============================] - 8s 33ms/step - loss: 0.4178 - val_loss: 0.4597\n",
            "Epoch 30/50\n",
            "250/250 [==============================] - 8s 32ms/step - loss: 0.4123 - val_loss: 0.4619\n",
            "Epoch 31/50\n",
            "250/250 [==============================] - 8s 32ms/step - loss: 0.4111 - val_loss: 0.4585\n",
            "Epoch 32/50\n",
            "250/250 [==============================] - 8s 32ms/step - loss: 0.4049 - val_loss: 0.4529\n",
            "Epoch 33/50\n",
            "250/250 [==============================] - 8s 32ms/step - loss: 0.4011 - val_loss: 0.4549\n",
            "Epoch 34/50\n",
            "250/250 [==============================] - 8s 33ms/step - loss: 0.3945 - val_loss: 0.4517\n",
            "Epoch 35/50\n",
            "250/250 [==============================] - 8s 33ms/step - loss: 0.3912 - val_loss: 0.4525\n",
            "Epoch 36/50\n",
            "250/250 [==============================] - 8s 33ms/step - loss: 0.3879 - val_loss: 0.4544\n",
            "Epoch 37/50\n",
            "250/250 [==============================] - 8s 33ms/step - loss: 0.3821 - val_loss: 0.4566\n",
            "Epoch 38/50\n",
            "250/250 [==============================] - 8s 32ms/step - loss: 0.3767 - val_loss: 0.4559\n",
            "Epoch 39/50\n",
            "250/250 [==============================] - 8s 32ms/step - loss: 0.3734 - val_loss: 0.4525\n",
            "Epoch 40/50\n",
            "250/250 [==============================] - 8s 33ms/step - loss: 0.3665 - val_loss: 0.4566\n",
            "Epoch 41/50\n",
            "250/250 [==============================] - 8s 33ms/step - loss: 0.3654 - val_loss: 0.4526\n",
            "Epoch 42/50\n",
            "250/250 [==============================] - 8s 33ms/step - loss: 0.3608 - val_loss: 0.4575\n",
            "Epoch 43/50\n",
            "250/250 [==============================] - 8s 33ms/step - loss: 0.3579 - val_loss: 0.4534\n",
            "Epoch 44/50\n",
            "250/250 [==============================] - 8s 33ms/step - loss: 0.3562 - val_loss: 0.4555\n",
            "Epoch 45/50\n",
            "250/250 [==============================] - 8s 33ms/step - loss: 0.3504 - val_loss: 0.4575\n",
            "Epoch 46/50\n",
            "250/250 [==============================] - 8s 33ms/step - loss: 0.3496 - val_loss: 0.4571\n",
            "Epoch 47/50\n",
            "250/250 [==============================] - 8s 33ms/step - loss: 0.3489 - val_loss: 0.4501\n",
            "Epoch 48/50\n",
            "250/250 [==============================] - 8s 33ms/step - loss: 0.3426 - val_loss: 0.4577\n",
            "Epoch 49/50\n",
            "250/250 [==============================] - 8s 33ms/step - loss: 0.3348 - val_loss: 0.4550\n",
            "Epoch 50/50\n",
            "250/250 [==============================] - 8s 33ms/step - loss: 0.3323 - val_loss: 0.4559\n"
          ],
          "name": "stdout"
        }
      ]
    },
    {
      "cell_type": "markdown",
      "metadata": {
        "id": "HEBCgBHodxSL"
      },
      "source": [
        "## 4. Make predictions\n",
        "\n",
        "\n",
        "### 4.1. Translate English to XXX\n",
        "\n",
        "1. Encoder read a sentence (source language) and output its final states, $h_t$ and $c_t$.\n",
        "2. Take the [star] sign \"\\t\" and the final state $h_t$ and $c_t$ as input and run the decoder.\n",
        "3. Get the new states and predicted probability distribution.\n",
        "4. sample a char from the predicted probability distribution\n",
        "5. take the sampled char and the new states as input and repeat the process (stop if reach the [stop] sign \"\\n\")."
      ]
    },
    {
      "cell_type": "code",
      "metadata": {
        "id": "Lje37oLgdxSM"
      },
      "source": [
        "# Reverse-lookup token index to decode sequences back to something readable.\n",
        "reverse_input_char_index = dict((i, char) for char, i in input_token_index.items())\n",
        "reverse_target_char_index = dict((i, char) for char, i in target_token_index.items())"
      ],
      "execution_count": 32,
      "outputs": []
    },
    {
      "cell_type": "code",
      "metadata": {
        "id": "wTrMkiKndxSM"
      },
      "source": [
        "def decode_sequence(input_seq):\n",
        "    states_value = encoder_model.predict(input_seq)\n",
        "\n",
        "    target_seq = numpy.zeros((1, 1, num_decoder_tokens))\n",
        "    target_seq[0, 0, target_token_index['\\t']] = 1.\n",
        "\n",
        "    stop_condition = False\n",
        "    decoded_sentence = ''\n",
        "    while not stop_condition:\n",
        "        output_tokens, h, c = decoder_model.predict([target_seq] + states_value)\n",
        "\n",
        "        # this line of code is greedy selection\n",
        "        # try to use multinomial sampling instead (with temperature)\n",
        "        sampled_token_index = numpy.argmax(output_tokens[0, -1, :])\n",
        "        \n",
        "        sampled_char = reverse_target_char_index[sampled_token_index]\n",
        "        decoded_sentence += sampled_char\n",
        "\n",
        "        if (sampled_char == '\\n' or\n",
        "           len(decoded_sentence) > max_decoder_seq_length):\n",
        "            stop_condition = True\n",
        "\n",
        "        target_seq = numpy.zeros((1, 1, num_decoder_tokens))\n",
        "        target_seq[0, 0, sampled_token_index] = 1.\n",
        "\n",
        "        states_value = [h, c]\n",
        "\n",
        "    return decoded_sentence\n"
      ],
      "execution_count": 34,
      "outputs": []
    },
    {
      "cell_type": "code",
      "metadata": {
        "id": "rNAh8HCjdxSN",
        "colab": {
          "base_uri": "https://localhost:8080/"
        },
        "outputId": "be10c1b9-826d-478b-8841-0ef1fd7f3c52"
      },
      "source": [
        "for seq_index in range(2100, 2120):\n",
        "    # Take one sequence (part of the training set)\n",
        "    # for trying out decoding.\n",
        "    input_seq = encoder_input_data[seq_index: seq_index + 1]\n",
        "    decoded_sentence = decode_sequence(input_seq)\n",
        "    print('-')\n",
        "    print('English:       ', input_texts[seq_index])\n",
        "    print('French (true): ', target_texts[seq_index][1:-1])\n",
        "    print('French (pred): ', decoded_sentence[0:-1])\n"
      ],
      "execution_count": 35,
      "outputs": [
        {
          "output_type": "stream",
          "text": [
            "-\n",
            "English:        just do it\n",
            "French (true):  faitesle tout simplement\n",
            "French (pred):  faitesle tout simplement falte\n",
            "-\n",
            "English:        just relax\n",
            "French (true):  detendezvous\n",
            "French (pred):  detendstoi\n",
            "-\n",
            "English:        just relax\n",
            "French (true):  detendstoi\n",
            "French (pred):  detendstoi\n",
            "-\n",
            "English:        keep it up\n",
            "French (true):  continuez comme ca\n",
            "French (pred):  continuez comme ca\n",
            "-\n",
            "English:        keep it up\n",
            "French (true):  continuez comme ca\n",
            "French (pred):  continuez comme ca\n",
            "-\n",
            "English:        keep it up\n",
            "French (true):  continue comme ca\n",
            "French (pred):  continuez comme ca\n",
            "-\n",
            "English:        keep quiet\n",
            "French (true):  reste tranquille\n",
            "French (pred):  restez tranquille\n",
            "-\n",
            "English:        keep quiet\n",
            "French (true):  restez tranquille\n",
            "French (pred):  restez tranquille\n",
            "-\n",
            "English:        keep quiet\n",
            "French (true):  reste tranquille\n",
            "French (pred):  restez tranquille\n",
            "-\n",
            "English:        keep quiet\n",
            "French (true):  restez tranquille\n",
            "French (pred):  restez tranquille\n",
            "-\n",
            "English:        keep quiet\n",
            "French (true):  restez tranquilles\n",
            "French (pred):  restez tranquille\n",
            "-\n",
            "English:        keep quiet\n",
            "French (true):  reste tranquille\n",
            "French (pred):  restez tranquille\n",
            "-\n",
            "English:        keep quiet\n",
            "French (true):  restez tranquille\n",
            "French (pred):  restez tranquille\n",
            "-\n",
            "English:        keep quiet\n",
            "French (true):  taisezvous\n",
            "French (pred):  restez tranquille\n",
            "-\n",
            "English:        keep still\n",
            "French (true):  reste tranquille\n",
            "French (pred):  restez tranquille\n",
            "-\n",
            "English:        keep still\n",
            "French (true):  restez tranquille\n",
            "French (pred):  restez tranquille\n",
            "-\n",
            "English:        let tom go\n",
            "French (true):  laissez tom partir\n",
            "French (pred):  laisse tom partir\n",
            "-\n",
            "English:        let tom go\n",
            "French (true):  laisse tom partir\n",
            "French (pred):  laisse tom partir\n",
            "-\n",
            "English:        let tom in\n",
            "French (true):  faites entrer tom\n",
            "French (pred):  laisse tom partir\n",
            "-\n",
            "English:        let tom in\n",
            "French (true):  fais entrer tom\n",
            "French (pred):  laisse tom partir\n"
          ],
          "name": "stdout"
        }
      ]
    },
    {
      "cell_type": "markdown",
      "metadata": {
        "id": "rge5Ujc4dxSO"
      },
      "source": [
        "### 4.2. Translate an English sentence to the target language\n",
        "\n",
        "1. Tokenization\n",
        "2. One-hot encode\n",
        "3. Translate"
      ]
    },
    {
      "cell_type": "code",
      "metadata": {
        "id": "P2uuf0nBdxSO",
        "colab": {
          "base_uri": "https://localhost:8080/",
          "height": 401
        },
        "outputId": "0a193038-77a1-42eb-bd35-3753fde772e8"
      },
      "source": [
        "input_sentence = 'I love you'\n",
        "\n",
        "\n",
        "max_length = 20\n",
        "input_sequence, input_index = text2sequences(max_length, input_sentence)\n",
        "\n",
        "max_encoder_length = max(len(line) for line in input_sentence)\n",
        "print('max length of input  sentences: %d' % (max_encoder_length))\n",
        "\n",
        "print('shape of encoder_input_seq: ' + str(input_sequence.shape))\n",
        "\n",
        "num_tokens = len(input_index) + 1\n",
        "print('num_tokens: ' + str(num_tokens))\n",
        "\n",
        "encoder_input_data = onehot_encode(input_sequence, max_encoder_length, num_tokens)\n",
        "\n",
        "print(encoder_input_data.shape)\n",
        "\n",
        "translated_sentence = decode_sequence(encoder_input_data)\n",
        "\n",
        "print('source sentence is: ' + input_sentence)\n",
        "print('translated sentence is: ' + translated_sentence)\n",
        "\n",
        "\n"
      ],
      "execution_count": 39,
      "outputs": [
        {
          "output_type": "stream",
          "text": [
            "max length of input  sentences: 1\n",
            "shape of encoder_input_seq: (10, 20)\n",
            "num_tokens: 9\n"
          ],
          "name": "stdout"
        },
        {
          "output_type": "error",
          "ename": "ValueError",
          "evalue": "ignored",
          "traceback": [
            "\u001b[0;31m---------------------------------------------------------------------------\u001b[0m",
            "\u001b[0;31mValueError\u001b[0m                                Traceback (most recent call last)",
            "\u001b[0;32m<ipython-input-39-f45fa38d7b5b>\u001b[0m in \u001b[0;36m<module>\u001b[0;34m()\u001b[0m\n\u001b[1;32m     11\u001b[0m \u001b[0mprint\u001b[0m\u001b[0;34m(\u001b[0m\u001b[0;34m'num_tokens: '\u001b[0m \u001b[0;34m+\u001b[0m \u001b[0mstr\u001b[0m\u001b[0;34m(\u001b[0m\u001b[0mnum_tokens\u001b[0m\u001b[0;34m)\u001b[0m\u001b[0;34m)\u001b[0m\u001b[0;34m\u001b[0m\u001b[0;34m\u001b[0m\u001b[0m\n\u001b[1;32m     12\u001b[0m \u001b[0;34m\u001b[0m\u001b[0m\n\u001b[0;32m---> 13\u001b[0;31m \u001b[0mencoder_input_data\u001b[0m \u001b[0;34m=\u001b[0m \u001b[0monehot_encode\u001b[0m\u001b[0;34m(\u001b[0m\u001b[0minput_sequence\u001b[0m\u001b[0;34m,\u001b[0m \u001b[0mmax_encoder_length\u001b[0m\u001b[0;34m,\u001b[0m \u001b[0mnum_tokens\u001b[0m\u001b[0;34m)\u001b[0m\u001b[0;34m\u001b[0m\u001b[0;34m\u001b[0m\u001b[0m\n\u001b[0m\u001b[1;32m     14\u001b[0m \u001b[0;34m\u001b[0m\u001b[0m\n\u001b[1;32m     15\u001b[0m \u001b[0mprint\u001b[0m\u001b[0;34m(\u001b[0m\u001b[0mencoder_input_data\u001b[0m\u001b[0;34m.\u001b[0m\u001b[0mshape\u001b[0m\u001b[0;34m)\u001b[0m\u001b[0;34m\u001b[0m\u001b[0;34m\u001b[0m\u001b[0m\n",
            "\u001b[0;32m<ipython-input-16-a59a6ca6b420>\u001b[0m in \u001b[0;36monehot_encode\u001b[0;34m(sequences, max_len, vocab_size)\u001b[0m\n\u001b[1;32m      6\u001b[0m     \u001b[0mdata\u001b[0m \u001b[0;34m=\u001b[0m \u001b[0mnumpy\u001b[0m\u001b[0;34m.\u001b[0m\u001b[0mzeros\u001b[0m\u001b[0;34m(\u001b[0m\u001b[0;34m(\u001b[0m\u001b[0mn\u001b[0m\u001b[0;34m,\u001b[0m \u001b[0mmax_len\u001b[0m\u001b[0;34m,\u001b[0m \u001b[0mvocab_size\u001b[0m\u001b[0;34m)\u001b[0m\u001b[0;34m)\u001b[0m\u001b[0;34m\u001b[0m\u001b[0;34m\u001b[0m\u001b[0m\n\u001b[1;32m      7\u001b[0m     \u001b[0;32mfor\u001b[0m \u001b[0mi\u001b[0m \u001b[0;32min\u001b[0m \u001b[0mrange\u001b[0m\u001b[0;34m(\u001b[0m\u001b[0mn\u001b[0m\u001b[0;34m)\u001b[0m\u001b[0;34m:\u001b[0m\u001b[0;34m\u001b[0m\u001b[0;34m\u001b[0m\u001b[0m\n\u001b[0;32m----> 8\u001b[0;31m         \u001b[0mdata\u001b[0m\u001b[0;34m[\u001b[0m\u001b[0mi\u001b[0m\u001b[0;34m,\u001b[0m \u001b[0;34m:\u001b[0m\u001b[0;34m,\u001b[0m \u001b[0;34m:\u001b[0m\u001b[0;34m]\u001b[0m \u001b[0;34m=\u001b[0m \u001b[0mto_categorical\u001b[0m\u001b[0;34m(\u001b[0m\u001b[0msequences\u001b[0m\u001b[0;34m[\u001b[0m\u001b[0mi\u001b[0m\u001b[0;34m]\u001b[0m\u001b[0;34m,\u001b[0m \u001b[0mnum_classes\u001b[0m\u001b[0;34m=\u001b[0m\u001b[0mvocab_size\u001b[0m\u001b[0;34m)\u001b[0m\u001b[0;34m\u001b[0m\u001b[0;34m\u001b[0m\u001b[0m\n\u001b[0m\u001b[1;32m      9\u001b[0m     \u001b[0;32mreturn\u001b[0m \u001b[0mdata\u001b[0m\u001b[0;34m\u001b[0m\u001b[0;34m\u001b[0m\u001b[0m\n\u001b[1;32m     10\u001b[0m \u001b[0;34m\u001b[0m\u001b[0m\n",
            "\u001b[0;31mValueError\u001b[0m: could not broadcast input array from shape (20,9) into shape (1,9)"
          ]
        }
      ]
    },
    {
      "cell_type": "markdown",
      "metadata": {
        "id": "48O6vOqzdxSO"
      },
      "source": [
        "## 5. Evaluate the translation using BLEU score\n",
        "\n",
        "Reference: \n",
        "- https://machinelearningmastery.com/calculate-bleu-score-for-text-python/\n",
        "- https://en.wikipedia.org/wiki/BLEU\n",
        "\n",
        "\n",
        "**Hint:** \n",
        "\n",
        "- Randomly partition the dataset to training, validation, and test. \n",
        "\n",
        "- Evaluate the BLEU score using the test set. Report the average.\n",
        "\n",
        "- A reasonable BLEU score should be 0.1 ~ 0.5."
      ]
    },
    {
      "cell_type": "code",
      "metadata": {
        "id": "PV6DbgyUdxSO"
      },
      "source": [
        ""
      ],
      "execution_count": null,
      "outputs": []
    }
  ]
}